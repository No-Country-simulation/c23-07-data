{
 "cells": [
  {
   "cell_type": "code",
   "execution_count": 1,
   "id": "41b5db2f-a370-4cd4-af43-9fd3f14a5980",
   "metadata": {},
   "outputs": [
    {
     "name": "stdout",
     "output_type": "stream",
     "text": [
      "Entorno configurado para pipeline de datos\n"
     ]
    }
   ],
   "source": [
    "# Importar librerías necesarias\n",
    "import pandas as pd\n",
    "import numpy as np\n",
    "import requests  # Para consumir APIs\n",
    "import os        # Para gestionar archivos y rutas\n",
    "from datetime import datetime  # Manejo de fechas y horas\n",
    "import time\n",
    "import pyarrow\n",
    "import fastparquet\n",
    "\n",
    "# Configuración inicial\n",
    "print(\"Entorno configurado para pipeline de datos\")"
   ]
  },
  {
   "cell_type": "code",
   "execution_count": 2,
   "id": "b2e75062-9e86-4fab-9a39-2ac51ffce793",
   "metadata": {},
   "outputs": [
    {
     "name": "stdout",
     "output_type": "stream",
     "text": [
      "Rutas creadas:\n",
      "- Datos de API: ../data/api_data/\n",
      "- Datos de Kaggle: ../data/kaggle_data/\n"
     ]
    }
   ],
   "source": [
    "# Rutas del proyecto\n",
    "DATA_DIR = \"../data/\"\n",
    "API_DATA_DIR = os.path.join(DATA_DIR, \"api_data/\")\n",
    "KAGGLE_DATA_DIR = os.path.join(DATA_DIR, \"kaggle_data/\")\n",
    "\n",
    "# Crear directorios si no existen\n",
    "os.makedirs(API_DATA_DIR, exist_ok=True)\n",
    "os.makedirs(KAGGLE_DATA_DIR, exist_ok=True)\n",
    "\n",
    "API_KEY = \"YO3SULHD55PCVOEF\" \n",
    "BASE_URL = \"https://www.alphavantage.co/query\"\n",
    "\n",
    "print(f\"Rutas creadas:\\n- Datos de API: {API_DATA_DIR}\\n- Datos de Kaggle: {KAGGLE_DATA_DIR}\")"
   ]
  },
  {
   "cell_type": "code",
   "execution_count": null,
   "id": "d50fde2c-5ca3-47e8-8a1c-33f7413be438",
   "metadata": {},
   "outputs": [
    {
     "name": "stdout",
     "output_type": "stream",
     "text": [
      "Tasas de interés guardadas.\n",
      "Inflación guardada.\n",
      "Tipos de cambio guardados.\n",
      "Pipeline ejecutado con éxito.\n"
     ]
    }
   ],
   "source": [
    "# Función genérica para obtener datos de Alpha Vantage\n",
    "def get_alpha_data(function, params={}):\n",
    "    params.update({\"apikey\": API_KEY, \"function\": function})\n",
    "    response = requests.get(BASE_URL, params=params)\n",
    "    if response.status_code == 200:\n",
    "        return response.json()\n",
    "    else:\n",
    "        print(f\"Error al obtener {function}: {response.status_code}\")\n",
    "        return None\n",
    "\n",
    "# Función para obtener tasas de interés\n",
    "def get_interest_rates():\n",
    "    data = get_alpha_data(\"FEDERAL_FUNDS_RATE\")\n",
    "    if data:\n",
    "        return pd.DataFrame(data.get(\"data\", []))\n",
    "    return None\n",
    "\n",
    "# Función para obtener datos de inflación\n",
    "def get_inflation():\n",
    "    data = get_alpha_data(\"INFLATION\")\n",
    "    if data:\n",
    "        return pd.DataFrame(data.get(\"data\", []))\n",
    "    return None\n",
    "\n",
    "# Función para obtener índices bursátiles (por ejemplo, S&P 500)\n",
    "def get_index_data(index_symbol):\n",
    "    params = {\"symbol\": index_symbol, \"outputsize\": \"full\"}\n",
    "    data = get_alpha_data(\"TIME_SERIES_DAILY\", params)\n",
    "    if data and \"Time Series (Daily)\" in data:\n",
    "        df = pd.DataFrame(data[\"Time Series (Daily)\"]).T\n",
    "        df = df.rename(columns={\n",
    "            \"1. open\": \"Open\",\n",
    "            \"2. high\": \"High\",\n",
    "            \"3. low\": \"Low\",\n",
    "            \"4. close\": \"Close\",\n",
    "            \"5. volume\": \"Volume\"\n",
    "        })\n",
    "        df.index = pd.to_datetime(df.index)\n",
    "        return df\n",
    "    return None\n",
    "\n",
    "# Función para obtener tipos de cambio\n",
    "def get_exchange_rates(from_currency=\"USD\", to_currency=\"EUR\"):\n",
    "    params = {\"from_symbol\": from_currency, \"to_symbol\": to_currency}\n",
    "    data = get_alpha_data(\"FX_DAILY\", params)\n",
    "    if data and \"Time Series FX (Daily)\" in data:\n",
    "        df = pd.DataFrame(data[\"Time Series FX (Daily)\"]).T\n",
    "        df.index = pd.to_datetime(df.index)\n",
    "        return df\n",
    "    return None\n",
    "\n",
    "\n",
    "# Pipeline de ejecución\n",
    "def execute_pipeline():\n",
    "\n",
    "    # Ruta relativa a la carpeta de data\n",
    "    external_path = \"../data/api_data/\"\n",
    "\n",
    "    # Tasas de interés\n",
    "    interest_rates = get_interest_rates()\n",
    "    if interest_rates is not None:\n",
    "        file_path = os.path.join(external_path, \"tasas_interes.parquet\")\n",
    "        interest_rates.to_parquet(file_path, index=False)\n",
    "        print(\"Tasas de interés guardadas.\")\n",
    "\n",
    "    # Inflación\n",
    "    inflation = get_inflation()\n",
    "    if inflation is not None:\n",
    "        file_path = os.path.join(external_path, \"inflacion.parquet\")\n",
    "        inflation.to_parquet(file_path, index=False)\n",
    "        print(\"Inflación guardada.\")\n",
    "\n",
    "    # Tipos de cambio USD/EUR\n",
    "    exchange_rates = get_exchange_rates()\n",
    "    if exchange_rates is not None:\n",
    "        file_path = os.path.join(external_path, \"tipos_cambio_usd_eur.parquet\")\n",
    "        exchange_rates.to_parquet(file_path)\n",
    "        print(\"Tipos de cambio guardados.\")\n",
    "\n",
    "    print(\"Pipeline ejecutado con éxito.\")\n",
    "\n",
    "\n",
    "\n",
    "# Ejecutar el pipeline\n",
    "execute_pipeline()"
   ]
  }
 ],
 "metadata": {
  "kernelspec": {
   "display_name": "Data (mercado_financiero)",
   "language": "python",
   "name": "mercado_financiero"
  },
  "language_info": {
   "codemirror_mode": {
    "name": "ipython",
    "version": 3
   },
   "file_extension": ".py",
   "mimetype": "text/x-python",
   "name": "python",
   "nbconvert_exporter": "python",
   "pygments_lexer": "ipython3",
   "version": "3.12.6"
  }
 },
 "nbformat": 4,
 "nbformat_minor": 5
}
